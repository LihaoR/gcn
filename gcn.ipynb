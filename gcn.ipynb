{
 "cells": [
  {
   "cell_type": "code",
   "execution_count": 1,
   "metadata": {},
   "outputs": [],
   "source": [
    "import numpy as np\n",
    "from sklearn import datasets\n",
    "import matplotlib.pyplot as plt\n",
    "from sklearn import metrics\n",
    "import tensorflow as tf\n",
    "import tensorflow.contrib.slim as slim\n",
    "from networkx import to_numpy_matrix, karate_club_graph\n",
    "import networkx as nx"
   ]
  },
  {
   "cell_type": "code",
   "execution_count": 2,
   "metadata": {},
   "outputs": [],
   "source": [
    "zkc = karate_club_graph()\n",
    "order = sorted(list(zkc.nodes()))\n",
    "A = to_numpy_matrix(zkc, nodelist=order)\n",
    "I = np.eye(zkc.number_of_nodes())          \n",
    "A_hat = A + I\n",
    "D_hat = np.array(np.sum(A_hat, axis=0))[0] # 度矩阵\n",
    "D_hat_ = np.array(np.diag(D_hat))"
   ]
  },
  {
   "cell_type": "code",
   "execution_count": 3,
   "metadata": {},
   "outputs": [
    {
     "name": "stdout",
     "output_type": "stream",
     "text": [
      "[[1. 1. 1. ... 1. 0. 0.]\n",
      " [1. 1. 1. ... 0. 0. 0.]\n",
      " [1. 1. 1. ... 0. 1. 0.]\n",
      " ...\n",
      " [1. 0. 0. ... 1. 1. 1.]\n",
      " [0. 0. 1. ... 1. 1. 1.]\n",
      " [0. 0. 0. ... 1. 1. 1.]] (34, 34) 34 [[1. 1. 1. 1. 1. 1. 1. 1. 1. 0. 1. 1. 1. 1. 0. 0. 0. 1. 0. 1. 0. 1. 0. 0.\n",
      "  0. 0. 0. 0. 0. 0. 0. 1. 0. 0.]]\n",
      "[17. 10. 11.  7.  4.  5.  5.  5.  6.  3.  4.  2.  3.  6.  3.  3.  3.  3.\n",
      "  3.  4.  3.  3.  3.  6.  4.  4.  3.  5.  4.  5.  5.  7. 13. 18.] (34,)\n"
     ]
    }
   ],
   "source": [
    "print(A_hat, A_hat.shape, len(A_hat), A_hat[0])\n",
    "print(D_hat, D_hat.shape)"
   ]
  },
  {
   "cell_type": "code",
   "execution_count": 4,
   "metadata": {
    "scrolled": true
   },
   "outputs": [],
   "source": [
    "sess = tf.Session()\n",
    "\n",
    "dic = {}\n",
    "dic['Officer'] = 0\n",
    "dic['Mr. Hi'] = 1\n",
    "labels = np.zeros((len(zkc), 2))\n",
    "for i in range(len(zkc)):\n",
    "    if dic[zkc.nodes[i]['club']] == 0:\n",
    "        labels[i][0] = 1\n",
    "        labels[i][1] = 0\n",
    "    else:\n",
    "        labels[i][0] = 0\n",
    "        labels[i][1] = 1"
   ]
  },
  {
   "cell_type": "markdown",
   "metadata": {},
   "source": [
    "## gcn"
   ]
  },
  {
   "cell_type": "code",
   "execution_count": 5,
   "metadata": {},
   "outputs": [],
   "source": [
    "def gcn_layer(A_hat, D_hat, inputs):\n",
    "    tmp = D_hat**-1 * A_hat * inputs\n",
    "    out = slim.fully_connected(tmp, 32, activation_fn=tf.nn.relu)\n",
    "    out = slim.fully_connected(out, 2, activation_fn=tf.nn.softmax)\n",
    "    return out\n",
    "\n",
    "inputs = tf.placeholder(shape=[None, 34], dtype=tf.float32)\n",
    "outputs_gcn = gcn_layer(A_hat, D_hat, inputs)"
   ]
  },
  {
   "cell_type": "code",
   "execution_count": 30,
   "metadata": {
    "scrolled": true
   },
   "outputs": [],
   "source": [
    "loss = tf.reduce_mean(tf.nn.softmax_cross_entropy_with_logits(logits=outputs_gcn, labels=labels))\n",
    "opt = tf.train.AdamOptimizer(learning_rate=0.0001).minimize(loss)\n",
    "\n",
    "sess.run(tf.global_variables_initializer())"
   ]
  },
  {
   "cell_type": "code",
   "execution_count": 31,
   "metadata": {
    "scrolled": true
   },
   "outputs": [
    {
     "name": "stdout",
     "output_type": "stream",
     "text": [
      "epoch 0 0.69573176\n",
      "epoch 200 0.66557425\n",
      "epoch 400 0.63263017\n",
      "epoch 600 0.59604\n",
      "epoch 800 0.5571224\n",
      "last error 0.51801807\n"
     ]
    }
   ],
   "source": [
    "for i in range(1000):\n",
    "    error, _ = sess.run([loss, opt], feed_dict={inputs:I})\n",
    "    if i % 200 == 0:\n",
    "        print('epoch', i, error)\n",
    "    \n",
    "print('last error', error)"
   ]
  },
  {
   "cell_type": "code",
   "execution_count": 32,
   "metadata": {},
   "outputs": [],
   "source": [
    "preds = sess.run(outputs_gcn, feed_dict={inputs:I})"
   ]
  },
  {
   "cell_type": "code",
   "execution_count": 33,
   "metadata": {
    "scrolled": true
   },
   "outputs": [
    {
     "name": "stdout",
     "output_type": "stream",
     "text": [
      "labels: 1 preds: 1 [0.02872175 0.97127825]\n",
      "labels: 1 preds: 1 [0.27755228 0.72244775]\n",
      "labels: 1 preds: 1 [0.22032213 0.77967787]\n",
      "labels: 1 preds: 1 [0.3837679  0.61623216]\n",
      "labels: 1 preds: 1 [0.26497868 0.73502135]\n",
      "labels: 1 preds: 1 [0.12208049 0.87791955]\n",
      "labels: 1 preds: 1 [0.30531394 0.69468606]\n",
      "labels: 1 preds: 0 [0.53346616 0.46653387]\n",
      "[0.53346616 0.46653387]\n",
      "labels: 1 preds: 1 [0.22304103 0.776959  ]\n",
      "labels: 0 preds: 0 [0.56227666 0.4377233 ]\n",
      "labels: 1 preds: 1 [0.26393977 0.73606026]\n",
      "labels: 1 preds: 1 [0.31254023 0.68745977]\n",
      "labels: 1 preds: 1 [0.30716547 0.69283456]\n",
      "labels: 1 preds: 1 [0.3432389  0.65676117]\n",
      "labels: 0 preds: 0 [0.6562055  0.34379447]\n",
      "labels: 0 preds: 0 [0.62545455 0.37454545]\n",
      "labels: 1 preds: 1 [0.27953702 0.7204629 ]\n",
      "labels: 1 preds: 1 [0.36003712 0.6399629 ]\n",
      "labels: 0 preds: 0 [0.6042018 0.3957982]\n",
      "labels: 1 preds: 1 [0.3592061 0.640794 ]\n",
      "labels: 0 preds: 0 [0.6522426  0.34775737]\n",
      "labels: 1 preds: 1 [0.42397293 0.5760271 ]\n",
      "labels: 0 preds: 0 [0.6678991 0.3321009]\n",
      "labels: 0 preds: 0 [0.79037786 0.20962219]\n",
      "labels: 0 preds: 0 [0.7101728 0.2898272]\n",
      "labels: 0 preds: 0 [0.71378434 0.28621557]\n",
      "labels: 0 preds: 0 [0.64253235 0.35746765]\n",
      "labels: 0 preds: 0 [0.67677486 0.32322517]\n",
      "labels: 0 preds: 0 [0.7028572  0.29714277]\n",
      "labels: 0 preds: 0 [0.6637049  0.33629522]\n",
      "labels: 0 preds: 0 [0.68411964 0.31588033]\n",
      "labels: 0 preds: 0 [0.743834   0.25616604]\n",
      "labels: 0 preds: 0 [0.78028184 0.21971817]\n",
      "labels: 0 preds: 0 [0.9139276  0.08607243]\n",
      "acc: 0.9705882352941176\n"
     ]
    }
   ],
   "source": [
    "c = 0\n",
    "for i in range (34):\n",
    "    print('labels:', np.argmax(labels[i]), 'preds:', np.argmax(preds[i]), preds[i])\n",
    "    if np.argmax(labels[i]) != np.argmax(preds[i]):\n",
    "        c += 1\n",
    "        print(preds[i])\n",
    "print('acc:', 1 - c/34)"
   ]
  },
  {
   "cell_type": "code",
   "execution_count": null,
   "metadata": {},
   "outputs": [],
   "source": []
  },
  {
   "cell_type": "code",
   "execution_count": null,
   "metadata": {},
   "outputs": [],
   "source": []
  }
 ],
 "metadata": {
  "kernelspec": {
   "display_name": "Python 3",
   "language": "python",
   "name": "python3"
  },
  "language_info": {
   "codemirror_mode": {
    "name": "ipython",
    "version": 3
   },
   "file_extension": ".py",
   "mimetype": "text/x-python",
   "name": "python",
   "nbconvert_exporter": "python",
   "pygments_lexer": "ipython3",
   "version": "3.6.4"
  }
 },
 "nbformat": 4,
 "nbformat_minor": 2
}
